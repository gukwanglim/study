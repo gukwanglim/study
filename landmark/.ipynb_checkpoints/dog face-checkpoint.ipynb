{
 "cells": [
  {
   "cell_type": "code",
   "execution_count": 1,
   "id": "136e9782",
   "metadata": {},
   "outputs": [],
   "source": [
    "import os\n",
    "\n",
    "os.environ[\"CUDA_DEVICE_ORDER\"]=\"PCI_BUS_ID\""
   ]
  },
  {
   "cell_type": "code",
   "execution_count": 6,
   "id": "4a276960",
   "metadata": {},
   "outputs": [],
   "source": [
    "from imutils import face_utils\n",
    "import numpy as np\n",
    "import imutils, dlib, cv2, csv, glob\n",
    "import matplotlib.pyplot as plt\n",
    "import pandas as pd"
   ]
  },
  {
   "cell_type": "code",
   "execution_count": 10,
   "id": "704ee797",
   "metadata": {},
   "outputs": [],
   "source": [
    "#  동물 이미지에 랜드마크를 찍어 csv 파일로 저장\n",
    "\n",
    "def show_raw_detection_plt(path, detector, predictor):\n",
    "    img_path = glob.glob(path)\n",
    "    \n",
    "    for j in range(0, len(img_path)):\n",
    "        img = cv2.imread(img_path[j])\n",
    "    \n",
    "        img = cv2.cvtColor(image, cv2.COLOR_BGR2RGB)\n",
    "        dets = detector(img, upsample_num_times = 1)\n",
    "        img_result = img.copy()\n",
    "\n",
    "        for d in dets:\n",
    "            x1, y1 = d.rect.left(), d.rect.top()\n",
    "            x2, y2 = d.rect.right(), d.rect.bottom()\n",
    "\n",
    "            cv2.rectangle(img_result, (x1, y1), (x2, y2), (255, 0, 0), 2, cv2.LINE_AA)\n",
    "\n",
    "        shapes = []\n",
    "        point = []\n",
    "\n",
    "        for i, d in enumerate(dets):\n",
    "            shape = predictor(img, d.rect)\n",
    "            shape = face_utils.shape_to_np(shape)\n",
    "\n",
    "            for i, p in enumerate(shape):\n",
    "                shapes.append(shape)\n",
    "\n",
    "                cv2.circle(img_result, p, 3, (0, 0, 255), -1, cv2.LINE_AA)\n",
    "                cv2.putText(img_result, str(i), tuple(p), cv2.FONT_HERSHEY_SIMPLEX, 0.5,\n",
    "                           (255, 255, 255), 1, cv2.LINE_AA)\n",
    "\n",
    "                p = p.astype('int')\n",
    "                point.extend(p)\n",
    "\n",
    "            with open('./dog/{}.csv'.format(img_path[j]), 'w', newline = '') as file:\n",
    "                write = csv.writer(file)\n",
    "\n",
    "                write.writerow(point)\n",
    "            \n",
    "\n",
    "        \n",
    "#     plt.figure(figsize = (16, 16))\n",
    "#     plt.imshow(img_result)"
   ]
  },
  {
   "cell_type": "code",
   "execution_count": 5,
   "id": "d34e7e04",
   "metadata": {},
   "outputs": [],
   "source": [
    "# 랜드마크를 전처리\n",
    "\n",
    "def landmark_fix(landmarks):\n",
    "\n",
    "    re_land = landmarks.copy()\n",
    "\n",
    "    for i, j, k in zip(range(1, 7), [60, 60, 59, 59, 58, 58], range(18, 1, -3)):\n",
    "        re_land[i] = (landmarks[j] - landmarks[i]) / k + landmarks[i]\n",
    "\n",
    "    for i, j, k in zip([7, 8, 9], [57, 57, 57], [2, 2, 2]):\n",
    "        re_land[i] = (landmarks[j] - landmarks[i]) / k + landmarks[i]\n",
    "\n",
    "    for i, j, k in zip(range(15, 9, -1), [54, 54, 55, 55, 56, 56], range(18, 1, -3)):\n",
    "        re_land[i] = (landmarks[j] - landmarks[i]) / k + landmarks[i]"
   ]
  },
  {
   "cell_type": "code",
   "execution_count": null,
   "id": "4017ac81",
   "metadata": {},
   "outputs": [],
   "source": [
    "img_path = glob.glob('./test/*.*')\n",
    "\n",
    "detector = dlib.cnn_face_detection_model_v1('dogHeadDetector.dat')\n",
    "predictor = dlib.shape_predictor('shape_predictor_68_face_landmarks.dat')\n",
    "\n",
    "show_raw_detection_plt(img_path, detector, predictor)"
   ]
  },
  {
   "cell_type": "code",
   "execution_count": null,
   "id": "c305ab1e",
   "metadata": {},
   "outputs": [],
   "source": []
  },
  {
   "cell_type": "code",
   "execution_count": null,
   "id": "8c4dde43",
   "metadata": {},
   "outputs": [],
   "source": []
  },
  {
   "cell_type": "code",
   "execution_count": null,
   "id": "7f50ba8a",
   "metadata": {},
   "outputs": [],
   "source": []
  },
  {
   "cell_type": "code",
   "execution_count": null,
   "id": "5323e8c1",
   "metadata": {},
   "outputs": [],
   "source": []
  },
  {
   "cell_type": "code",
   "execution_count": null,
   "id": "0646a43a",
   "metadata": {},
   "outputs": [],
   "source": []
  }
 ],
 "metadata": {
  "kernelspec": {
   "display_name": "Python 3 (ipykernel)",
   "language": "python",
   "name": "python3"
  },
  "language_info": {
   "codemirror_mode": {
    "name": "ipython",
    "version": 3
   },
   "file_extension": ".py",
   "mimetype": "text/x-python",
   "name": "python",
   "nbconvert_exporter": "python",
   "pygments_lexer": "ipython3",
   "version": "3.9.7"
  }
 },
 "nbformat": 4,
 "nbformat_minor": 5
}
